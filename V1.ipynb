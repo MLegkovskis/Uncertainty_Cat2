{
 "cells": [
  {
   "cell_type": "markdown",
   "id": "00a3063e",
   "metadata": {},
   "source": [
    "# Direct Sampling"
   ]
  },
  {
   "cell_type": "code",
   "execution_count": 1,
   "id": "3c1728c9",
   "metadata": {
    "scrolled": true
   },
   "outputs": [
    {
     "name": "stdout",
     "output_type": "stream",
     "text": [
      "          mu   mu_star     sigma  mu_star_conf\n",
      "x1  0.000854  0.037054  0.040301      0.001027\n",
      "x2 -0.007193  0.222883  0.241793      0.005866\n",
      "x3  0.081879  1.595351  1.630786      0.019483\n",
      "x4 -0.041108  0.873822  0.931185      0.020229\n",
      "x5  0.000841  0.029838  0.032313      0.000813\n",
      "x6 -0.001881  0.085133  0.092418      0.002349\n",
      "x7 -0.000811  0.232832  0.253401      0.006063\n",
      "x8  0.001487  0.032670  0.035447      0.000875\n"
     ]
    }
   ],
   "source": [
    "import numpy as np\n",
    "from analyze import morris\n",
    "from sample.morris import sample\n",
    "\n",
    "\n",
    "problem = {\n",
    " 'num_vars': 8,\n",
    " 'names': ['x1', 'x2', 'x3', 'x4', 'x5', 'x6', 'x7', 'x8'],\n",
    " 'groups': None,\n",
    " 'bounds': [[0.0, 1.0],\n",
    "            [0.0, 1.0],\n",
    "            [0.0, 1.0],\n",
    "            [0.0, 1.0],\n",
    "            [0.0, 1.0],\n",
    "            [0.0, 1.0],\n",
    "            [0.0, 1.0],\n",
    "            [0.0, 1.0]]\n",
    "}\n",
    "\n",
    "param_values = sample(problem, N=1000, num_levels=4, optimal_trajectories=None)\n",
    "\n",
    "# [Define the sobol_g_function and rest of the code]\n",
    "def sobol_g_function(params):\n",
    "    a = [78, 12, 0.5, 2, 97, 33, 11, 90]  # Example values for 'a'\n",
    "    product = 1\n",
    "    for i in range(len(params)):\n",
    "        product *= (abs(4 * params[i] - 2) + a[i]) / (1 + a[i])\n",
    "    return product\n",
    "\n",
    "Y = np.array([sobol_g_function(sample) for sample in param_values])\n",
    "\n",
    "Si = morris.analyze(\n",
    "    problem,\n",
    "    param_values,\n",
    "    Y,\n",
    "    conf_level=0.95,\n",
    "    print_to_console=True,\n",
    "    num_levels=4,\n",
    "    num_resamples=100,\n",
    ")"
   ]
  },
  {
   "cell_type": "code",
   "execution_count": 3,
   "id": "dc52b537",
   "metadata": {},
   "outputs": [
    {
     "name": "stdout",
     "output_type": "stream",
     "text": [
      "          ST   ST_conf\n",
      "x1  0.557947  0.082088\n",
      "x2  0.442189  0.038065\n",
      "x3  0.241402  0.026503\n",
      "          S1   S1_conf\n",
      "x1  0.310576  0.059117\n",
      "x2  0.443653  0.051667\n",
      "x3 -0.012962  0.065608\n",
      "                S2   S2_conf\n",
      "(x1, x2) -0.014397  0.087689\n",
      "(x1, x3)  0.246231  0.113027\n",
      "(x2, x3)  0.000539  0.060319\n"
     ]
    },
    {
     "name": "stderr",
     "output_type": "stream",
     "text": [
      "C:\\Users\\sharm\\AppData\\Local\\Temp\\ipykernel_13756\\723000862.py:12: DeprecationWarning: `salib.sample.saltelli` will be removed in SALib 1.5. Please use `salib.sample.sobol`\n",
      "  param_values = saltelli.sample(problem, 1024, calc_second_order=True, skip_values=2048)\n"
     ]
    }
   ],
   "source": [
    "from analyze import sobol\n",
    "from sample import saltelli\n",
    "\n",
    "problem = {\n",
    "    'num_vars': 3,\n",
    "    'names': ['x1', 'x2', 'x3'],\n",
    "    'bounds': [[-3.14159265359, 3.14159265359],\n",
    "               [-3.14159265359, 3.14159265359],\n",
    "               [-3.14159265359, 3.14159265359]]\n",
    "}\n",
    "\n",
    "param_values = saltelli.sample(problem, 1024, calc_second_order=True, skip_values=2048)\n",
    "\n",
    "def Ishigami(x, a=7, b=0.1):\n",
    "    return np.sin(x[0]) + a * np.sin(x[1])**2 + b * x[2]**4 * np.sin(x[0])\n",
    "\n",
    "Y = np.array([Ishigami(row) for row in param_values])\n",
    "\n",
    "Si = sobol.analyze(\n",
    "    problem, Y, calc_second_order=True, conf_level=0.95, print_to_console=True\n",
    ")"
   ]
  },
  {
   "cell_type": "code",
   "execution_count": null,
   "id": "6a0c1d05",
   "metadata": {},
   "outputs": [],
   "source": []
  }
 ],
 "metadata": {
  "kernelspec": {
   "display_name": "Python 3 (ipykernel)",
   "language": "python",
   "name": "python3"
  },
  "language_info": {
   "codemirror_mode": {
    "name": "ipython",
    "version": 3
   },
   "file_extension": ".py",
   "mimetype": "text/x-python",
   "name": "python",
   "nbconvert_exporter": "python",
   "pygments_lexer": "ipython3",
   "version": "3.9.13"
  }
 },
 "nbformat": 4,
 "nbformat_minor": 5
}
