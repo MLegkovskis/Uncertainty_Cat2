{
 "cells": [
  {
   "cell_type": "markdown",
   "id": "08f32666",
   "metadata": {},
   "source": [
    "# Direct Sampling"
   ]
  },
  {
   "cell_type": "code",
   "execution_count": 14,
   "id": "f7dc712f",
   "metadata": {
    "scrolled": true
   },
   "outputs": [
    {
     "name": "stdout",
     "output_type": "stream",
     "text": [
      "          mu   mu_star     sigma  mu_star_conf\n",
      "x1  0.001138  0.036115  0.039426      0.001001\n",
      "x2  0.008031  0.218874  0.236968      0.005741\n",
      "x3 -0.059892  1.602220  1.639255      0.018653\n",
      "x4  0.083542  0.866207  0.922241      0.016980\n",
      "x5 -0.001168  0.029255  0.031826      0.000811\n",
      "x6  0.004638  0.085948  0.093182      0.002237\n",
      "x7  0.009625  0.234753  0.255157      0.005644\n",
      "x8  0.000547  0.031956  0.034611      0.000885\n"
     ]
    }
   ],
   "source": [
    "import numpy as np\n",
    "\n",
    "# Assuming the 'analyze' and 'sample' directories are in your current working directory\n",
    "from analyze.morris import analyze\n",
    "from sample.morris import sample\n",
    "\n",
    "# [Rest of your code remains the same]\n",
    "\n",
    "problem = {\n",
    " 'num_vars': 8,\n",
    " 'names': ['x1', 'x2', 'x3', 'x4', 'x5', 'x6', 'x7', 'x8'],\n",
    " 'groups': None,\n",
    " 'bounds': [[0.0, 1.0],\n",
    "            [0.0, 1.0],\n",
    "            [0.0, 1.0],\n",
    "            [0.0, 1.0],\n",
    "            [0.0, 1.0],\n",
    "            [0.0, 1.0],\n",
    "            [0.0, 1.0],\n",
    "            [0.0, 1.0]]\n",
    "}\n",
    "\n",
    "param_values = sample(problem, N=1000, num_levels=4, optimal_trajectories=None)\n",
    "\n",
    "# [Define the sobol_g_function and rest of the code]\n",
    "def sobol_g_function(params):\n",
    "    a = [78, 12, 0.5, 2, 97, 33, 11, 90]  # Example values for 'a'\n",
    "    product = 1\n",
    "    for i in range(len(params)):\n",
    "        product *= (abs(4 * params[i] - 2) + a[i]) / (1 + a[i])\n",
    "    return product\n",
    "\n",
    "Y = np.array([sobol_g_function(sample) for sample in param_values])\n",
    "\n",
    "Si = morris.analyze(\n",
    "    problem,\n",
    "    param_values,\n",
    "    Y,\n",
    "    conf_level=0.95,\n",
    "    print_to_console=True,\n",
    "    num_levels=4,\n",
    "    num_resamples=100,\n",
    ")"
   ]
  },
  {
   "cell_type": "code",
   "execution_count": 19,
   "id": "b12d3b95",
   "metadata": {},
   "outputs": [
    {
     "name": "stdout",
     "output_type": "stream",
     "text": [
      "          ST   ST_conf\n",
      "x1  0.557947  0.085438\n",
      "x2  0.442189  0.043527\n",
      "x3  0.241402  0.028249\n",
      "          S1   S1_conf\n",
      "x1  0.310576  0.062665\n",
      "x2  0.443653  0.057400\n",
      "x3 -0.012962  0.052835\n",
      "                S2   S2_conf\n",
      "(x1, x2) -0.014397  0.076928\n",
      "(x1, x3)  0.246231  0.104194\n",
      "(x2, x3)  0.000539  0.068352\n"
     ]
    },
    {
     "name": "stderr",
     "output_type": "stream",
     "text": [
      "C:\\Users\\sharm\\AppData\\Local\\Temp\\ipykernel_31196\\1907014063.py:17: DeprecationWarning: `salib.sample.saltelli` will be removed in SALib 1.5. Please use `salib.sample.sobol`\n",
      "  param_values = saltelli.sample(problem, 1024, calc_second_order=True, skip_values=2048)\n"
     ]
    }
   ],
   "source": [
    "from SALib.analyze import sobol\n",
    "from SALib.sample import saltelli\n",
    "from SALib.test_functions import Ishigami\n",
    "from SALib.util import read_param_file\n",
    "\n",
    "\n",
    "\n",
    "problem = {\n",
    " 'num_vars': 3,\n",
    " 'names': ['x1', 'x2', 'x3'],\n",
    " 'bounds': [[-3.14159265359, 3.14159265359],\n",
    "            [-3.14159265359, 3.14159265359],\n",
    "            [-3.14159265359, 3.14159265359]]\n",
    "}\n",
    "\n",
    "\n",
    "param_values = saltelli.sample(problem, 1024, calc_second_order=True, skip_values=2048)\n",
    "\n",
    "Y = Ishigami.evaluate(param_values)\n",
    "\n",
    "Si = sobol.analyze(\n",
    "    problem, Y, calc_second_order=True, conf_level=0.95, print_to_console=True\n",
    ")\n"
   ]
  },
  {
   "cell_type": "code",
   "execution_count": null,
   "id": "c9ae6c47",
   "metadata": {},
   "outputs": [],
   "source": [
    "# First-order indices expected with Saltelli sampling:\n",
    "# x1: 0.3139\n",
    "# x2: 0.4424\n",
    "# x3: 0.0"
   ]
  }
 ],
 "metadata": {
  "kernelspec": {
   "display_name": "Python 3 (ipykernel)",
   "language": "python",
   "name": "python3"
  },
  "language_info": {
   "codemirror_mode": {
    "name": "ipython",
    "version": 3
   },
   "file_extension": ".py",
   "mimetype": "text/x-python",
   "name": "python",
   "nbconvert_exporter": "python",
   "pygments_lexer": "ipython3",
   "version": "3.9.13"
  }
 },
 "nbformat": 4,
 "nbformat_minor": 5
}
