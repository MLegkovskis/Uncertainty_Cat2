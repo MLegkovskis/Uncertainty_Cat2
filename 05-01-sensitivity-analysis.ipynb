{
 "cells": [
  {
   "cell_type": "markdown",
   "id": "1a0b4bf1-fc9b-4e8c-af52-4c6c7e47cc57",
   "metadata": {},
   "source": [
    "## Computing the Sensitivity Indices Using the Output of a Model\n",
    "\n",
    "In the example used above the Ishigami function is very cheap to\n",
    "evaluate. However, in most real scenarios the functions of interest are\n",
    "expensive, and we need to limit ourselves to a few number of\n",
    "evaluations. Using Monte Carlo methods is infeasible in these scenarios\n",
    "as a large number of samples are typically required to provide good\n",
    "estimates of the Sobol indices.\n",
    "\n",
    "An alternative in these cases is to use Gaussaian process emulator of\n",
    "the function of interest trained on a few inputs and outputs (Marrel et\n",
    "al., 2009). If the model is properly trained, its mean prediction which\n",
    "is cheap to evaluate, can be used to compute the Monte Carlo estimates\n",
    "of the Sobol indices, the variance from the GP emulator can also be used\n",
    "to assess our uncertainty about the Sobol indices. Let’s see how we can\n",
    "do this in Emukit.\n",
    "\n",
    "We start by generating 100 samples in the input domain. Note that this a\n",
    "just 1% of the number of samples that we used to compute the Sobol\n",
    "coefficients using Monte Carlo."
   ]
  },
  {
   "cell_type": "code",
   "execution_count": 56,
   "id": "1f650170-42fa-4055-bfea-6a21208d677e",
   "metadata": {},
   "outputs": [],
   "source": [
    "from emukit.core.initial_designs import RandomDesign"
   ]
  },
  {
   "cell_type": "code",
   "execution_count": 57,
   "id": "c2a2b4d0-6f72-4514-a455-bfa9402a0466",
   "metadata": {},
   "outputs": [],
   "source": [
    "design = RandomDesign(space)\n",
    "x = design.get_samples(500)\n",
    "y = ishigami.fidelity1(x)[:,np.newaxis]"
   ]
  },
  {
   "cell_type": "markdown",
   "id": "57edc552-1675-4fd2-bb9b-dfd58a574a39",
   "metadata": {},
   "source": [
    "Now, we fit a standard Gaussian process to the samples, and we wrap it\n",
    "as an Emukit model."
   ]
  },
  {
   "cell_type": "code",
   "execution_count": 58,
   "id": "00f494a9-7fe7-48ec-8ea8-4ac6efa7d3f2",
   "metadata": {},
   "outputs": [],
   "source": [
    "from GPy.models import GPRegression\n",
    "from emukit.model_wrappers import GPyModelWrapper\n",
    "from emukit.sensitivity.monte_carlo import MonteCarloSensitivity"
   ]
  },
  {
   "cell_type": "code",
   "execution_count": 59,
   "id": "bda6d5b8-d306-48fc-8870-e339d892f931",
   "metadata": {},
   "outputs": [],
   "source": [
    "model_gpy = GPRegression(x,y)\n",
    "model_emukit = GPyModelWrapper(model_gpy)\n",
    "model_emukit.optimize()"
   ]
  },
  {
   "cell_type": "markdown",
   "id": "572e763b-3d5c-460e-af82-eb8b0ab855b8",
   "metadata": {},
   "source": [
    "The final step is to compute the coefficients using the class\n",
    "`ModelBasedMonteCarloSensitivity` which directly calls the model and\n",
    "uses its predictive mean to compute the Monte Carlo estimates of the\n",
    "Sobol indices. We plot the true estimates, those computed using 10000\n",
    "direct evaluations of the object using Monte Carlo and those computed\n",
    "using a Gaussian process model trained on 100 evaluations."
   ]
  },
  {
   "cell_type": "markdown",
   "id": "e5448d31-4336-4ea0-9668-1cb58d62e36d",
   "metadata": {},
   "source": [
    "## Catapult Simulation\n",
    "\n",
    "<span class=\"editsection-bracket\"\n",
    "style=\"\">\\[</span><span class=\"editsection\"\n",
    "style=\"\"><a href=\"https://github.com/lawrennd/snippets/edit/main/_uq/includes/catapult-simulation.md\" target=\"_blank\" onclick=\"ga('send', 'event', 'Edit Page', 'Edit', 'https://github.com/lawrennd/snippets/edit/main/_uq/includes/catapult-simulation.md', 13);\">edit</a></span><span class=\"editsection-bracket\" style=\"\">\\]</span>\n",
    "\n",
    "<svg viewBox=\"0 0 200 200\" style=\"width:15%\">\n",
    "\n",
    "<defs> <clipPath id=\"clip0\">\n",
    "\n",
    "<style>\n",
    "circle {\n",
    "  fill: black;\n",
    "}\n",
    "</style>\n",
    "\n",
    "<circle cx=\"100\" cy=\"100\" r=\"100\"/> </clipPath> </defs>\n",
    "\n",
    "<title>\n",
    "\n",
    "Nicolas Durrande\n",
    "\n",
    "</title>\n",
    "\n",
    "<image preserveAspectRatio=\"xMinYMin slice\" width=\"100%\" xlink:href=\"https://mlatcl.github.io/mlphysical/./slides/diagrams//people/nicolas-durrande2.jpg\" clip-path=\"url(#clip0)\"/>\n",
    "\n",
    "</svg>\n",
    "\n",
    "As a worked example we’re going to introduce a catapult simulation\n",
    "written by Nicolas Durrande, <https://durrande.shinyapps.io/catapult/>.\n",
    "\n",
    "<img class=\"\" src=\"https://mlatcl.github.io/mlphysical/./slides/diagrams//uq/catapult-simulation.png\" style=\"width:80%\">\n",
    "\n",
    "Figure: <i>A catapult simulation for experimenting with surrogate\n",
    "models, kindly provided by Nicolas Durrande</i>\n",
    "\n",
    "The simulator allows you to set various parameters of the catapult\n",
    "including the axis of rotation, `roation_axis`, the position of the arm\n",
    "stop, `arm_stop`, and the location of the two bindings of the catapult’s\n",
    "spring, `spring_binding_1` and `spring_binding_2`.\n",
    "\n",
    "These parameters are then collated in a vector, $$\n",
    "\\mathbf{ x}_i = \\begin{bmatrix}\n",
    "\\texttt{rotation_axis} \\\\\n",
    "\\texttt{arm_stop} \\\\\n",
    "\\texttt{spring_binding_1} \\\\\n",
    "\\texttt{spring_binding_2}\n",
    "\\end{bmatrix}\n",
    "$$\n",
    "\n",
    "Having set those parameters, you can run an experiment, by firing the\n",
    "catapult. This will show you how far it goes.\n",
    "\n",
    "Because you will need to operate the catapult yourself, we’ll create a\n",
    "function to query you about the result of an individual firing."
   ]
  },
  {
   "cell_type": "code",
   "execution_count": 60,
   "id": "fa429977-d4eb-40fc-b7fa-bdadcf37c1f4",
   "metadata": {},
   "outputs": [],
   "source": [
    "import numpy as np"
   ]
  },
  {
   "cell_type": "code",
   "execution_count": 61,
   "id": "f5c9331d-109c-43f7-888d-c69e57a22f60",
   "metadata": {},
   "outputs": [],
   "source": [
    "def catapult_distance(x):\n",
    "    \"\"\"Request user input for the catapult.\"\"\"\n",
    "    y = np.zeros((x.shape[0], 1))\n",
    "    for i in range(x.shape[0]):\n",
    "        rotation_axis=x[i, 0]\n",
    "        arm_stop=x[i, 1]\n",
    "        spring_binding_1=x[i, 2]\n",
    "        spring_binding_2=x[i, 3]\n",
    "            \n",
    "        print('Please set the following values:')\n",
    "        print('x_1 = {rotation_axis:.2f} (rotation axis)'.format(rotation_axis=rotation_axis))\n",
    "        print('x_2 = {arm_stop:.2f} (arm stop)'.format(arm_stop=arm_stop))\n",
    "        print('x_3 = {spring_binding_1:.2f} (spring binding 1)'.format(spring_binding_1=spring_binding_1))\n",
    "        print('x_4 = {spring_binding_2:.2f} (spring binding 2)'.format(spring_binding_2=spring_binding_2))\n",
    "        y[i, 0] = float(input('What is the distance? '))\n",
    "    return y"
   ]
  },
  {
   "cell_type": "markdown",
   "id": "fc32f90e-a55d-4dc0-8136-fc240cc73dc4",
   "metadata": {},
   "source": [
    "We can also set the parameter space for the model. Each of these\n",
    "variables is scaled to operate $\\in [0, 1]$."
   ]
  },
  {
   "cell_type": "code",
   "execution_count": 62,
   "id": "875e736e-7a82-4d88-941a-ca77b607036a",
   "metadata": {},
   "outputs": [],
   "source": [
    "from emukit.core import ContinuousParameter, ParameterSpace"
   ]
  },
  {
   "cell_type": "code",
   "execution_count": 63,
   "id": "b486ebfe-313c-4b88-93ac-e9f3e5655263",
   "metadata": {},
   "outputs": [],
   "source": [
    "variable_domain = [0,1]\n",
    "           \n",
    "space = ParameterSpace(\n",
    "          [ContinuousParameter('rotation_axis', *variable_domain), \n",
    "           ContinuousParameter('arm_stop', *variable_domain),\n",
    "           ContinuousParameter('spring_binding_1', *variable_domain),\n",
    "           ContinuousParameter('spring_binding_2', *variable_domain)])"
   ]
  },
  {
   "cell_type": "markdown",
   "id": "561646b6-f91a-4d6b-a19b-61500194ee26",
   "metadata": {},
   "source": [
    "Before we perform sensitivity analysis, we need to build an emulator of\n",
    "the catapulter, which we do using our experimental design process."
   ]
  },
  {
   "cell_type": "markdown",
   "id": "d8a8fe61-052e-4435-9ad3-8458bc84b2c7",
   "metadata": {},
   "source": [
    "## Experimental Design for the Catapult\n",
    "\n",
    "<span class=\"editsection-bracket\"\n",
    "style=\"\">\\[</span><span class=\"editsection\"\n",
    "style=\"\"><a href=\"https://github.com/lawrennd/snippets/edit/main/_uq/includes/catapult-experimental-design.md\" target=\"_blank\" onclick=\"ga('send', 'event', 'Edit Page', 'Edit', 'https://github.com/lawrennd/snippets/edit/main/_uq/includes/catapult-experimental-design.md', 13);\">edit</a></span><span class=\"editsection-bracket\" style=\"\">\\]</span>\n",
    "\n",
    "Now we will build an emulator for the catapult using the experimental\n",
    "design loop.\n",
    "\n",
    "We’ll start with a small model-free design, we’ll use a random design\n",
    "for initializing our model."
   ]
  },
  {
   "cell_type": "code",
   "execution_count": 64,
   "id": "75a3e8a4-b700-4711-b768-38db16aba4f1",
   "metadata": {},
   "outputs": [],
   "source": [
    "from emukit.core.initial_designs import RandomDesign"
   ]
  },
  {
   "cell_type": "code",
   "execution_count": 65,
   "id": "f9390779-4c58-42e3-a2c8-08245ab655f0",
   "metadata": {},
   "outputs": [
    {
     "name": "stdout",
     "output_type": "stream",
     "text": [
      "Please set the following values:\n",
      "x_1 = 0.34 (rotation axis)\n",
      "x_2 = 0.35 (arm stop)\n",
      "x_3 = 0.16 (spring binding 1)\n",
      "x_4 = 0.14 (spring binding 2)\n",
      "What is the distance? 20\n",
      "Please set the following values:\n",
      "x_1 = 0.26 (rotation axis)\n",
      "x_2 = 0.03 (arm stop)\n",
      "x_3 = 0.71 (spring binding 1)\n",
      "x_4 = 0.13 (spring binding 2)\n",
      "What is the distance? 30\n",
      "Please set the following values:\n",
      "x_1 = 0.01 (rotation axis)\n",
      "x_2 = 0.18 (arm stop)\n",
      "x_3 = 0.17 (spring binding 1)\n",
      "x_4 = 0.03 (spring binding 2)\n",
      "What is the distance? 34\n",
      "Please set the following values:\n",
      "x_1 = 0.57 (rotation axis)\n",
      "x_2 = 0.15 (arm stop)\n",
      "x_3 = 0.69 (spring binding 1)\n",
      "x_4 = 0.85 (spring binding 2)\n",
      "What is the distance? 40\n",
      "Please set the following values:\n",
      "x_1 = 0.28 (rotation axis)\n",
      "x_2 = 0.04 (arm stop)\n",
      "x_3 = 0.08 (spring binding 1)\n",
      "x_4 = 0.78 (spring binding 2)\n",
      "What is the distance? 50\n"
     ]
    }
   ],
   "source": [
    "design = RandomDesign(space)\n",
    "x = design.get_samples(5)\n",
    "y = catapult_distance(x)"
   ]
  },
  {
   "cell_type": "code",
   "execution_count": 66,
   "id": "62b93669-6604-4ef2-838b-cc02aaae03f9",
   "metadata": {},
   "outputs": [],
   "source": [
    "from GPy.models import GPRegression\n",
    "from emukit.model_wrappers import GPyModelWrapper\n",
    "from emukit.sensitivity.monte_carlo import MonteCarloSensitivity"
   ]
  },
  {
   "cell_type": "markdown",
   "id": "832e5928-7ffc-4e33-9303-77dfa100dc6b",
   "metadata": {},
   "source": [
    "Set up the GPy model. The variance of the RBF kernel is set to $150^2$\n",
    "because that’s roughly the square of the range of the catapult. We set\n",
    "the noise variance to a small value."
   ]
  },
  {
   "cell_type": "code",
   "execution_count": 67,
   "id": "fa3d6df6-d2cb-4723-91d0-1cff243600f9",
   "metadata": {},
   "outputs": [
    {
     "data": {
      "text/html": [
       "<style type=\"text/css\">\n",
       ".pd{\n",
       "    font-family: \"Courier New\", Courier, monospace !important;\n",
       "    width: 100%;\n",
       "    padding: 3px;\n",
       "}\n",
       "</style>\n",
       "\n",
       "<p class=pd>\n",
       "<b>Model</b>: GP regression<br>\n",
       "<b>Objective</b>: 26.9163013988788<br>\n",
       "<b>Number of Parameters</b>: 3<br>\n",
       "<b>Number of Optimization Parameters</b>: 2<br>\n",
       "<b>Updates</b>: True<br>\n",
       "</p>\n",
       "<style type=\"text/css\">\n",
       ".tg  {font-family:\"Courier New\", Courier, monospace !important;padding:2px 3px;word-break:normal;border-collapse:collapse;border-spacing:0;border-color:#DCDCDC;margin:0px auto;width:100%;}\n",
       ".tg td{font-family:\"Courier New\", Courier, monospace !important;font-weight:bold;color:#444;background-color:#F7FDFA;border-style:solid;border-width:1px;overflow:hidden;word-break:normal;border-color:#DCDCDC;}\n",
       ".tg th{font-family:\"Courier New\", Courier, monospace !important;font-weight:normal;color:#fff;background-color:#26ADE4;border-style:solid;border-width:1px;overflow:hidden;word-break:normal;border-color:#DCDCDC;}\n",
       ".tg .tg-left{font-family:\"Courier New\", Courier, monospace !important;font-weight:normal;text-align:left;}\n",
       ".tg .tg-center{font-family:\"Courier New\", Courier, monospace !important;font-weight:normal;text-align:center;}\n",
       ".tg .tg-right{font-family:\"Courier New\", Courier, monospace !important;font-weight:normal;text-align:right;}\n",
       "</style>\n",
       "<table class=\"tg\"><tr><th><b>  GP_regression.         </b></th><th><b>  value</b></th><th><b>constraints</b></th><th><b>priors</b></th></tr>\n",
       "<tr><td class=tg-left>  rbf.variance           </td><td class=tg-right>22500.0</td><td class=tg-center>    +ve    </td><td class=tg-center>      </td></tr>\n",
       "<tr><td class=tg-left>  rbf.lengthscale        </td><td class=tg-right>    1.0</td><td class=tg-center>    +ve    </td><td class=tg-center>      </td></tr>\n",
       "<tr><td class=tg-left>  Gaussian_noise.variance</td><td class=tg-right>  1e-05</td><td class=tg-center> +ve fixed </td><td class=tg-center>      </td></tr>\n",
       "</table>"
      ],
      "text/plain": [
       "<GPy.models.gp_regression.GPRegression at 0x27fc8ff5e80>"
      ]
     },
     "metadata": {},
     "output_type": "display_data"
    }
   ],
   "source": [
    "model_gpy = GPRegression(x,y)\n",
    "model_gpy.kern.variance = 150**2\n",
    "model_gpy.likelihood.variance.fix(1e-5)\n",
    "display(model_gpy)"
   ]
  },
  {
   "cell_type": "markdown",
   "id": "f401b436-0885-41e5-867a-c0aae2a59283",
   "metadata": {},
   "source": [
    "Wrap the model for EmuKit."
   ]
  },
  {
   "cell_type": "code",
   "execution_count": 68,
   "id": "1cc97693-e450-45c4-b1eb-e268e8ab0ba2",
   "metadata": {},
   "outputs": [
    {
     "name": "stderr",
     "output_type": "stream",
     "text": [
      " C:\\Users\\sharm\\anaconda3\\lib\\site-packages\\paramz\\transformations.py:111: RuntimeWarning:overflow encountered in expm1\n"
     ]
    }
   ],
   "source": [
    "model_emukit = GPyModelWrapper(model_gpy)\n",
    "model_emukit.optimize()"
   ]
  },
  {
   "cell_type": "code",
   "execution_count": 69,
   "id": "96a671cb-cca8-49fa-b0ef-1fc8e610ba5d",
   "metadata": {},
   "outputs": [
    {
     "data": {
      "text/html": [
       "<style type=\"text/css\">\n",
       ".pd{\n",
       "    font-family: \"Courier New\", Courier, monospace !important;\n",
       "    width: 100%;\n",
       "    padding: 3px;\n",
       "}\n",
       "</style>\n",
       "\n",
       "<p class=pd>\n",
       "<b>Model</b>: GP regression<br>\n",
       "<b>Objective</b>: 21.75969507682431<br>\n",
       "<b>Number of Parameters</b>: 3<br>\n",
       "<b>Number of Optimization Parameters</b>: 2<br>\n",
       "<b>Updates</b>: True<br>\n",
       "</p>\n",
       "<style type=\"text/css\">\n",
       ".tg  {font-family:\"Courier New\", Courier, monospace !important;padding:2px 3px;word-break:normal;border-collapse:collapse;border-spacing:0;border-color:#DCDCDC;margin:0px auto;width:100%;}\n",
       ".tg td{font-family:\"Courier New\", Courier, monospace !important;font-weight:bold;color:#444;background-color:#F7FDFA;border-style:solid;border-width:1px;overflow:hidden;word-break:normal;border-color:#DCDCDC;}\n",
       ".tg th{font-family:\"Courier New\", Courier, monospace !important;font-weight:normal;color:#fff;background-color:#26ADE4;border-style:solid;border-width:1px;overflow:hidden;word-break:normal;border-color:#DCDCDC;}\n",
       ".tg .tg-left{font-family:\"Courier New\", Courier, monospace !important;font-weight:normal;text-align:left;}\n",
       ".tg .tg-center{font-family:\"Courier New\", Courier, monospace !important;font-weight:normal;text-align:center;}\n",
       ".tg .tg-right{font-family:\"Courier New\", Courier, monospace !important;font-weight:normal;text-align:right;}\n",
       "</style>\n",
       "<table class=\"tg\"><tr><th><b>  GP_regression.         </b></th><th><b>             value</b></th><th><b>constraints</b></th><th><b>priors</b></th></tr>\n",
       "<tr><td class=tg-left>  rbf.variance           </td><td class=tg-right>22499.999480775903</td><td class=tg-center>    +ve    </td><td class=tg-center>      </td></tr>\n",
       "<tr><td class=tg-left>  rbf.lengthscale        </td><td class=tg-right> 5.202834813064715</td><td class=tg-center>    +ve    </td><td class=tg-center>      </td></tr>\n",
       "<tr><td class=tg-left>  Gaussian_noise.variance</td><td class=tg-right>             1e-05</td><td class=tg-center> +ve fixed </td><td class=tg-center>      </td></tr>\n",
       "</table>"
      ],
      "text/plain": [
       "<GPy.models.gp_regression.GPRegression at 0x27fc8ff5e80>"
      ]
     },
     "metadata": {},
     "output_type": "display_data"
    }
   ],
   "source": [
    "display(model_gpy)"
   ]
  },
  {
   "cell_type": "markdown",
   "id": "09ce8df0-1f60-40a7-ba6d-fd1a3056a003",
   "metadata": {},
   "source": [
    "Now we set up the model loop. We’ll use integrated variance reduction as\n",
    "the acquisition function for our model-based design loop.\n",
    "\n",
    "*Warning*: This loop runs much slower on Google `colab` than on a local\n",
    "machine."
   ]
  },
  {
   "cell_type": "code",
   "execution_count": 70,
   "id": "4102f11e-0dda-465d-b279-46a5c7a6b7a3",
   "metadata": {},
   "outputs": [],
   "source": [
    "from emukit.experimental_design.experimental_design_loop import ExperimentalDesignLoop"
   ]
  },
  {
   "cell_type": "code",
   "execution_count": 71,
   "id": "f1ab785a-f8bc-434f-abf5-ee61743208f2",
   "metadata": {},
   "outputs": [],
   "source": [
    "from emukit.experimental_design.acquisitions import IntegratedVarianceReduction, ModelVariance"
   ]
  },
  {
   "cell_type": "code",
   "execution_count": 72,
   "id": "7c4638e1-1a2a-49ce-9e8b-c46f2376e4d7",
   "metadata": {},
   "outputs": [
    {
     "name": "stdout",
     "output_type": "stream",
     "text": [
      "Please set the following values:\n",
      "x_1 = 0.34 (rotation axis)\n",
      "x_2 = 0.79 (arm stop)\n",
      "x_3 = 0.58 (spring binding 1)\n",
      "x_4 = 0.55 (spring binding 2)\n"
     ]
    },
    {
     "ename": "KeyboardInterrupt",
     "evalue": "Interrupted by user",
     "output_type": "error",
     "traceback": [
      "\u001b[1;31m---------------------------------------------------------------------------\u001b[0m",
      "\u001b[1;31mKeyboardInterrupt\u001b[0m                         Traceback (most recent call last)",
      "Input \u001b[1;32mIn [72]\u001b[0m, in \u001b[0;36m<cell line: 6>\u001b[1;34m()\u001b[0m\n\u001b[0;32m      1\u001b[0m integrated_variance \u001b[38;5;241m=\u001b[39m IntegratedVarianceReduction(space\u001b[38;5;241m=\u001b[39mspace,\n\u001b[0;32m      2\u001b[0m                                                   model\u001b[38;5;241m=\u001b[39mmodel_emukit)\n\u001b[0;32m      3\u001b[0m ed \u001b[38;5;241m=\u001b[39m ExperimentalDesignLoop(space\u001b[38;5;241m=\u001b[39mspace, \n\u001b[0;32m      4\u001b[0m                             model\u001b[38;5;241m=\u001b[39mmodel_emukit, \n\u001b[0;32m      5\u001b[0m                             acquisition \u001b[38;5;241m=\u001b[39m integrated_variance)\n\u001b[1;32m----> 6\u001b[0m \u001b[43med\u001b[49m\u001b[38;5;241;43m.\u001b[39;49m\u001b[43mrun_loop\u001b[49m\u001b[43m(\u001b[49m\u001b[43mcatapult_distance\u001b[49m\u001b[43m,\u001b[49m\u001b[43m \u001b[49m\u001b[38;5;241;43m10\u001b[39;49m\u001b[43m)\u001b[49m\n",
      "File \u001b[1;32m~\\anaconda3\\lib\\site-packages\\emukit\\core\\loop\\outer_loop.py:94\u001b[0m, in \u001b[0;36mOuterLoop.run_loop\u001b[1;34m(self, user_function, stopping_condition, context)\u001b[0m\n\u001b[0;32m     92\u001b[0m new_x \u001b[38;5;241m=\u001b[39m \u001b[38;5;28mself\u001b[39m\u001b[38;5;241m.\u001b[39mcandidate_point_calculator\u001b[38;5;241m.\u001b[39mcompute_next_points(\u001b[38;5;28mself\u001b[39m\u001b[38;5;241m.\u001b[39mloop_state, context)\n\u001b[0;32m     93\u001b[0m _log\u001b[38;5;241m.\u001b[39mdebug(\u001b[38;5;124m\"\u001b[39m\u001b[38;5;124mNext suggested point(s): \u001b[39m\u001b[38;5;132;01m{}\u001b[39;00m\u001b[38;5;124m\"\u001b[39m\u001b[38;5;241m.\u001b[39mformat(new_x))\n\u001b[1;32m---> 94\u001b[0m results \u001b[38;5;241m=\u001b[39m \u001b[43muser_function\u001b[49m\u001b[38;5;241;43m.\u001b[39;49m\u001b[43mevaluate\u001b[49m\u001b[43m(\u001b[49m\u001b[43mnew_x\u001b[49m\u001b[43m)\u001b[49m\n\u001b[0;32m     95\u001b[0m _log\u001b[38;5;241m.\u001b[39mdebug(\u001b[38;5;124m\"\u001b[39m\u001b[38;5;124mUser function returned: \u001b[39m\u001b[38;5;132;01m{}\u001b[39;00m\u001b[38;5;124m\"\u001b[39m\u001b[38;5;241m.\u001b[39mformat(results))\n\u001b[0;32m     96\u001b[0m \u001b[38;5;28mself\u001b[39m\u001b[38;5;241m.\u001b[39mloop_state\u001b[38;5;241m.\u001b[39mupdate(results)\n",
      "File \u001b[1;32m~\\anaconda3\\lib\\site-packages\\emukit\\core\\loop\\user_function.py:61\u001b[0m, in \u001b[0;36mUserFunctionWrapper.evaluate\u001b[1;34m(self, inputs)\u001b[0m\n\u001b[0;32m     57\u001b[0m     \u001b[38;5;28;01mraise\u001b[39;00m \u001b[38;5;167;01mValueError\u001b[39;00m(\u001b[38;5;124m\"\u001b[39m\u001b[38;5;124mUser function should receive 2d array as an input, \u001b[39m\u001b[38;5;124m\"\u001b[39m\n\u001b[0;32m     58\u001b[0m                      \u001b[38;5;124m\"\u001b[39m\u001b[38;5;124mactual input dimensionality is \u001b[39m\u001b[38;5;132;01m{}\u001b[39;00m\u001b[38;5;124m\"\u001b[39m\u001b[38;5;241m.\u001b[39mformat(inputs\u001b[38;5;241m.\u001b[39mndim))\n\u001b[0;32m     60\u001b[0m _log\u001b[38;5;241m.\u001b[39minfo(\u001b[38;5;124m\"\u001b[39m\u001b[38;5;124mEvaluating user function for \u001b[39m\u001b[38;5;132;01m{}\u001b[39;00m\u001b[38;5;124m point(s)\u001b[39m\u001b[38;5;124m\"\u001b[39m\u001b[38;5;241m.\u001b[39mformat(inputs\u001b[38;5;241m.\u001b[39mshape[\u001b[38;5;241m0\u001b[39m]))\n\u001b[1;32m---> 61\u001b[0m outputs \u001b[38;5;241m=\u001b[39m \u001b[38;5;28;43mself\u001b[39;49m\u001b[38;5;241;43m.\u001b[39;49m\u001b[43mf\u001b[49m\u001b[43m(\u001b[49m\u001b[43minputs\u001b[49m\u001b[43m)\u001b[49m\n\u001b[0;32m     63\u001b[0m \u001b[38;5;28;01mif\u001b[39;00m \u001b[38;5;28misinstance\u001b[39m(outputs, \u001b[38;5;28mtuple\u001b[39m):\n\u001b[0;32m     64\u001b[0m     user_fcn_outputs \u001b[38;5;241m=\u001b[39m outputs[\u001b[38;5;241m0\u001b[39m]\n",
      "Input \u001b[1;32mIn [61]\u001b[0m, in \u001b[0;36mcatapult_distance\u001b[1;34m(x)\u001b[0m\n\u001b[0;32m     13\u001b[0m     \u001b[38;5;28mprint\u001b[39m(\u001b[38;5;124m'\u001b[39m\u001b[38;5;124mx_3 = \u001b[39m\u001b[38;5;132;01m{spring_binding_1:.2f}\u001b[39;00m\u001b[38;5;124m (spring binding 1)\u001b[39m\u001b[38;5;124m'\u001b[39m\u001b[38;5;241m.\u001b[39mformat(spring_binding_1\u001b[38;5;241m=\u001b[39mspring_binding_1))\n\u001b[0;32m     14\u001b[0m     \u001b[38;5;28mprint\u001b[39m(\u001b[38;5;124m'\u001b[39m\u001b[38;5;124mx_4 = \u001b[39m\u001b[38;5;132;01m{spring_binding_2:.2f}\u001b[39;00m\u001b[38;5;124m (spring binding 2)\u001b[39m\u001b[38;5;124m'\u001b[39m\u001b[38;5;241m.\u001b[39mformat(spring_binding_2\u001b[38;5;241m=\u001b[39mspring_binding_2))\n\u001b[1;32m---> 15\u001b[0m     y[i, \u001b[38;5;241m0\u001b[39m] \u001b[38;5;241m=\u001b[39m \u001b[38;5;28mfloat\u001b[39m(\u001b[38;5;28;43minput\u001b[39;49m\u001b[43m(\u001b[49m\u001b[38;5;124;43m'\u001b[39;49m\u001b[38;5;124;43mWhat is the distance? \u001b[39;49m\u001b[38;5;124;43m'\u001b[39;49m\u001b[43m)\u001b[49m)\n\u001b[0;32m     16\u001b[0m \u001b[38;5;28;01mreturn\u001b[39;00m y\n",
      "File \u001b[1;32m~\\anaconda3\\lib\\site-packages\\ipykernel\\kernelbase.py:1177\u001b[0m, in \u001b[0;36mKernel.raw_input\u001b[1;34m(self, prompt)\u001b[0m\n\u001b[0;32m   1173\u001b[0m \u001b[38;5;28;01mif\u001b[39;00m \u001b[38;5;129;01mnot\u001b[39;00m \u001b[38;5;28mself\u001b[39m\u001b[38;5;241m.\u001b[39m_allow_stdin:\n\u001b[0;32m   1174\u001b[0m     \u001b[38;5;28;01mraise\u001b[39;00m StdinNotImplementedError(\n\u001b[0;32m   1175\u001b[0m         \u001b[38;5;124m\"\u001b[39m\u001b[38;5;124mraw_input was called, but this frontend does not support input requests.\u001b[39m\u001b[38;5;124m\"\u001b[39m\n\u001b[0;32m   1176\u001b[0m     )\n\u001b[1;32m-> 1177\u001b[0m \u001b[38;5;28;01mreturn\u001b[39;00m \u001b[38;5;28;43mself\u001b[39;49m\u001b[38;5;241;43m.\u001b[39;49m\u001b[43m_input_request\u001b[49m\u001b[43m(\u001b[49m\n\u001b[0;32m   1178\u001b[0m \u001b[43m    \u001b[49m\u001b[38;5;28;43mstr\u001b[39;49m\u001b[43m(\u001b[49m\u001b[43mprompt\u001b[49m\u001b[43m)\u001b[49m\u001b[43m,\u001b[49m\n\u001b[0;32m   1179\u001b[0m \u001b[43m    \u001b[49m\u001b[38;5;28;43mself\u001b[39;49m\u001b[38;5;241;43m.\u001b[39;49m\u001b[43m_parent_ident\u001b[49m\u001b[43m[\u001b[49m\u001b[38;5;124;43m\"\u001b[39;49m\u001b[38;5;124;43mshell\u001b[39;49m\u001b[38;5;124;43m\"\u001b[39;49m\u001b[43m]\u001b[49m\u001b[43m,\u001b[49m\n\u001b[0;32m   1180\u001b[0m \u001b[43m    \u001b[49m\u001b[38;5;28;43mself\u001b[39;49m\u001b[38;5;241;43m.\u001b[39;49m\u001b[43mget_parent\u001b[49m\u001b[43m(\u001b[49m\u001b[38;5;124;43m\"\u001b[39;49m\u001b[38;5;124;43mshell\u001b[39;49m\u001b[38;5;124;43m\"\u001b[39;49m\u001b[43m)\u001b[49m\u001b[43m,\u001b[49m\n\u001b[0;32m   1181\u001b[0m \u001b[43m    \u001b[49m\u001b[43mpassword\u001b[49m\u001b[38;5;241;43m=\u001b[39;49m\u001b[38;5;28;43;01mFalse\u001b[39;49;00m\u001b[43m,\u001b[49m\n\u001b[0;32m   1182\u001b[0m \u001b[43m\u001b[49m\u001b[43m)\u001b[49m\n",
      "File \u001b[1;32m~\\anaconda3\\lib\\site-packages\\ipykernel\\kernelbase.py:1219\u001b[0m, in \u001b[0;36mKernel._input_request\u001b[1;34m(self, prompt, ident, parent, password)\u001b[0m\n\u001b[0;32m   1216\u001b[0m             \u001b[38;5;28;01mbreak\u001b[39;00m\n\u001b[0;32m   1217\u001b[0m \u001b[38;5;28;01mexcept\u001b[39;00m \u001b[38;5;167;01mKeyboardInterrupt\u001b[39;00m:\n\u001b[0;32m   1218\u001b[0m     \u001b[38;5;66;03m# re-raise KeyboardInterrupt, to truncate traceback\u001b[39;00m\n\u001b[1;32m-> 1219\u001b[0m     \u001b[38;5;28;01mraise\u001b[39;00m \u001b[38;5;167;01mKeyboardInterrupt\u001b[39;00m(\u001b[38;5;124m\"\u001b[39m\u001b[38;5;124mInterrupted by user\u001b[39m\u001b[38;5;124m\"\u001b[39m) \u001b[38;5;28;01mfrom\u001b[39;00m \u001b[38;5;28mNone\u001b[39m\n\u001b[0;32m   1220\u001b[0m \u001b[38;5;28;01mexcept\u001b[39;00m \u001b[38;5;167;01mException\u001b[39;00m:\n\u001b[0;32m   1221\u001b[0m     \u001b[38;5;28mself\u001b[39m\u001b[38;5;241m.\u001b[39mlog\u001b[38;5;241m.\u001b[39mwarning(\u001b[38;5;124m\"\u001b[39m\u001b[38;5;124mInvalid Message:\u001b[39m\u001b[38;5;124m\"\u001b[39m, exc_info\u001b[38;5;241m=\u001b[39m\u001b[38;5;28;01mTrue\u001b[39;00m)\n",
      "\u001b[1;31mKeyboardInterrupt\u001b[0m: Interrupted by user"
     ]
    }
   ],
   "source": [
    "integrated_variance = IntegratedVarianceReduction(space=space,\n",
    "                                                  model=model_emukit)\n",
    "ed = ExperimentalDesignLoop(space=space, \n",
    "                            model=model_emukit, \n",
    "                            acquisition = integrated_variance)\n",
    "ed.run_loop(catapult_distance, 10)"
   ]
  },
  {
   "cell_type": "markdown",
   "id": "4dda42bf-e1af-4db2-9665-f5375e9da511",
   "metadata": {},
   "source": []
  },
  {
   "cell_type": "markdown",
   "id": "cb308fe2-8ebe-4af7-a6e2-24ac4c414713",
   "metadata": {},
   "source": [
    "## Sensitivity Analysis of a Catapult Simulation\n",
    "\n",
    "The final step is to compute the coefficients using the class\n",
    "`ModelBasedMonteCarloSensitivity` which directly calls the model and\n",
    "uses its predictive mean to compute the Monte Carlo estimates of the\n",
    "Sobol indices. We plot the estimates of the Sobol indices computed using\n",
    "a Gaussian process model trained on the observations we’ve acquired."
   ]
  },
  {
   "cell_type": "code",
   "execution_count": null,
   "id": "b7cb0f2b-448c-42d3-a43c-992a0673af9a",
   "metadata": {},
   "outputs": [],
   "source": [
    "num_mc = 10000\n",
    "senstivity = MonteCarloSensitivity(model = model_emukit, input_domain = space)\n",
    "main_effects_gp, total_effects_gp, _ = senstivity.compute_effects(num_monte_carlo_points = num_mc)"
   ]
  },
  {
   "cell_type": "code",
   "execution_count": null,
   "id": "a3ab15b3-add7-4127-bd91-40f5a24459f4",
   "metadata": {},
   "outputs": [],
   "source": [
    "import matplotlib.pyplot as plt\n",
    "import mlai.plot as plot\n",
    "import mlai"
   ]
  },
  {
   "cell_type": "code",
   "execution_count": null,
   "id": "6324735b-481b-49fe-a451-177032f6b6e9",
   "metadata": {},
   "outputs": [],
   "source": [
    "import pandas as pd"
   ]
  },
  {
   "cell_type": "code",
   "execution_count": null,
   "id": "781af768-a9d1-4f92-bd38-e1ad495a6f18",
   "metadata": {},
   "outputs": [],
   "source": [
    "fig, ax = plt.subplots(figsize=plot.big_wide_figsize)\n",
    "\n",
    "main_effects_gp_plot = {ivar: main_effects_gp[ivar][0] for ivar in main_effects_gp}\n",
    "\n",
    "d = {'GP Monte Carlo':main_effects_gp_plot}\n",
    "\n",
    "pd.DataFrame(d).plot(kind='bar', ax=ax)\n",
    "plt.ylabel('% of explained output variance')\n",
    "\n",
    "mlai.write_figure(filename='first-order-sobol-indices-gp-catapult.svg', directory='./uq')"
   ]
  },
  {
   "cell_type": "markdown",
   "id": "35eb2695-6cf1-44c4-898f-cc2ac8826576",
   "metadata": {},
   "source": [
    "<img src=\"https://mlatcl.github.io/mlphysical/./slides/diagrams//uq/first-order-sobol-indices-gp-catapult.svg\" class=\"\" width=\"80%\" style=\"vertical-align:middle;\">\n",
    "\n",
    "Figure: <i>First Order sobol indices as estimated by GP-emulator based\n",
    "Monte Carlo on the catapult.</i>"
   ]
  },
  {
   "cell_type": "code",
   "execution_count": null,
   "id": "fa2c57d5-ee49-4f80-aa83-825ff17d7615",
   "metadata": {},
   "outputs": [],
   "source": [
    "fig, ax = plt.subplots(figsize=plot.big_wide_figsize)\n",
    "\n",
    "total_effects_gp_plot = {ivar: total_effects_gp[ivar][0] for ivar in total_effects_gp}\n",
    "\n",
    "d = {'GP Monte Carlo':total_effects_gp_plot}\n",
    "\n",
    "pd.DataFrame(d).plot(kind='bar', ax=ax)\n",
    "ax.set_ylabel('% of explained output variance')\n",
    "\n",
    "mlai.write_figure(filename='total-effects-sobol-indices-gp-catapult.svg', directory='./uq')"
   ]
  },
  {
   "cell_type": "markdown",
   "id": "ff6f9f67-f2a9-4b9e-8f58-7a56c8624767",
   "metadata": {},
   "source": [
    "<img src=\"https://mlatcl.github.io/mlphysical/./slides/diagrams//uq/total-effects-sobol-indices-gp-catapult.svg\" class=\"\" width=\"80%\" style=\"vertical-align:middle;\">\n",
    "\n",
    "Figure: <i>Total effects as estimated by GP based Monte Carlo on the\n",
    "catapult.</i>"
   ]
  }
 ],
 "metadata": {
  "kernelspec": {
   "display_name": "Python 3 (ipykernel)",
   "language": "python",
   "name": "python3"
  },
  "language_info": {
   "codemirror_mode": {
    "name": "ipython",
    "version": 3
   },
   "file_extension": ".py",
   "mimetype": "text/x-python",
   "name": "python",
   "nbconvert_exporter": "python",
   "pygments_lexer": "ipython3",
   "version": "3.9.13"
  }
 },
 "nbformat": 4,
 "nbformat_minor": 5
}
